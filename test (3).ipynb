{
 "cells": [
  {
   "cell_type": "code",
   "execution_count": 1,
   "metadata": {},
   "outputs": [],
   "source": [
    "# importing libraries\n",
    "\n",
    "from facenet_pytorch import MTCNN, InceptionResnetV1\n",
    "import torch\n",
    "from torchvision import datasets\n",
    "from torch.utils.data import DataLoader\n",
    "from PIL import Image\n",
    "import cv2\n",
    "import time\n",
    "import os"
   ]
  },
  {
   "cell_type": "code",
   "execution_count": 2,
   "metadata": {},
   "outputs": [],
   "source": [
    "# initializing MTCNN and InceptionResnetV1 \n",
    "#O(1)\n",
    "mtcnn0 = MTCNN(image_size=240, margin=0, keep_all=False, min_face_size=40) # keep_all=False\n",
    "mtcnn = MTCNN(image_size=240, margin=0, keep_all=True, min_face_size=40) # keep_all=True\n",
    "resnet = InceptionResnetV1(pretrained='vggface2').eval() "
   ]
  },
  {
   "cell_type": "code",
   "execution_count": 3,
   "metadata": {},
   "outputs": [
    {
     "name": "stdout",
     "output_type": "stream",
     "text": [
      "52.350488901138306\n"
     ]
    }
   ],
   "source": [
    "def check_path(path):            #function to confirm whether the given path exists or not\n",
    "    dir = os.path.dirname(path)  #if it doesn't exist this function will create\n",
    "    if not os.path.exists(dir):\n",
    "        os.makedirs(dir)\n",
    "# O(1)\n",
    "vid_cam = cv2.VideoCapture(0)  #Start video capturing\n",
    "face_cascade = cv2.CascadeClassifier('D:\\dip_cod\\dip_cod\\Lib\\site-packages\\cv2\\data\\haarcascade_frontalface_default.xml') # Detect object in video stream using Haarcascade Frontal Face\n",
    "face_id = 1  # For each person,there will be one face id\n",
    "count = 0    # Initialize sample face image\n",
    "check_path(\"dataset/\")\n",
    "start_time = time.time()\n",
    "# O(nm) n-number of frames m-number of faces\n",
    "while(True):\n",
    "    _,image_frame = vid_cam.read()       # Capture video frame _, is used to ignored first value because vid_cam.read() is returning 2 values\n",
    "    gray = cv2.cvtColor(image_frame, cv2.COLOR_BGR2GRAY) # Convert frame to grayscale\n",
    "    faces = face_cascade.detectMultiScale(gray, 1.3, 5)# Detect faces using Cascade Classifier(xml file)\n",
    "    for (x,y,w,h) in faces:\n",
    "        cv2.rectangle(image_frame, (x,y), (x+w,y+h), (255,0,0), 2) # Crop the image frame into rectangle\n",
    "        count += 1               # Increment face image\n",
    "        cv2.imwrite(\"dataset/Dima/User.\" + str(face_id) + '.' + str(count) + \".jpg\", gray[y:y+h,x:x+w]) # Save the captured image into the datasets folder\n",
    "        cv2.imshow('Creating Dataset!!!', image_frame)  # Display the video frame, with rectangular box on the person's face\n",
    "    if count>1000:                                     # If image taken reach 100, stop taking video\n",
    "        break\n",
    "print(time.time() - start_time)\n",
    "#O(1)\n",
    "vid_cam.release()                                       # Stop video\n",
    "cv2.destroyAllWindows()                                 # Close all windows\n"
   ]
  },
  {
   "cell_type": "code",
   "execution_count": 4,
   "metadata": {
    "scrolled": true
   },
   "outputs": [
    {
     "name": "stdout",
     "output_type": "stream",
     "text": [
      "75.53178143501282\n"
     ]
    }
   ],
   "source": [
    "# Read data from folder\n",
    "\n",
    "dataset = datasets.ImageFolder('dataset') # photos folder path \n",
    "idx_to_class = {i:c for c,i in dataset.class_to_idx.items()} # accessing names of peoples from folder names\n",
    "\n",
    "\n",
    "def collate_fn(x):\n",
    "    return x[0]\n",
    "\n",
    "loader = DataLoader(dataset, collate_fn=collate_fn)\n",
    "\n",
    "name_list = [] # list of names corrospoing to cropped photos\n",
    "embedding_list = [] # list of embeding matrix after conversion from cropped faces to embedding matrix using resnet\n",
    "\n",
    "\n",
    "#O(n) n number of pictures\n",
    "start_time = time.time()\n",
    "for img, idx in loader:\n",
    "    face, prob = mtcnn0(img, return_prob=True) \n",
    "    if face is not None and prob>0.92:\n",
    "        emb = resnet(face.unsqueeze(0)) \n",
    "        embedding_list.append(emb.detach()) \n",
    "        name_list.append(idx_to_class[idx])     \n",
    "        \n",
    "\n",
    "# save data\n",
    "print(time.time() - start_time)\n",
    "data = [embedding_list, name_list] \n",
    "torch.save(data, 'data.pt') # saving data.pt file"
   ]
  },
  {
   "cell_type": "code",
   "execution_count": 5,
   "metadata": {},
   "outputs": [
    {
     "name": "stdout",
     "output_type": "stream",
     "text": [
      "63.15678524971008\n",
      "True/Total 0.8882235528942116\n"
     ]
    }
   ],
   "source": [
    "# Using webcam recognize face\n",
    "\n",
    "# loading data.pt file\n",
    "load_data = torch.load('data.pt') \n",
    "embedding_list = load_data[0] \n",
    "name_list = load_data[1] \n",
    "ll = []\n",
    "count_TRUE = 0\n",
    "count_TOTAL = 0\n",
    "\n",
    "cam = cv2.VideoCapture(0) \n",
    "start_time = time.time()\n",
    "# O(frame*m*n*A/freq) A - unknown complexity(MTCNN, MTCNN.detect, resnet)\n",
    "while True:\n",
    "    ret, frame = cam.read()\n",
    "    if not ret:\n",
    "        print(\"fail to grab frame, try again\")\n",
    "        break\n",
    "    if count_TOTAL > 500:\n",
    "        #if  count_TRUE > 99:\n",
    "        #    break\n",
    "        #else:\n",
    "        #    count_TOTAL = 0\n",
    "        #    count_TRUE = 0\n",
    "        #    start_time = time.time()\n",
    "        break\n",
    "    \n",
    "    count_TOTAL += 1\n",
    "    img = Image.fromarray(frame)\n",
    "    img_cropped_list, prob_list = mtcnn(img, return_prob=True) \n",
    "    \n",
    "    if img_cropped_list is not None:\n",
    "        boxes, _ = mtcnn.detect(img)\n",
    "                \n",
    "        for i, prob in enumerate(prob_list):\n",
    "            if prob>0.90:\n",
    "                emb = resnet(img_cropped_list[i].unsqueeze(0)).detach() \n",
    "                \n",
    "                dist_list = [] # list of matched distances, minimum distance is used to identify the person\n",
    "                \n",
    "                for idx, emb_db in enumerate(embedding_list):\n",
    "                    dist = torch.dist(emb, emb_db).item()\n",
    "                    dist_list.append(dist)\n",
    "\n",
    "                min_dist = min(dist_list) # get minumum dist value\n",
    "                ll.append(min_dist)\n",
    "                min_dist_idx = dist_list.index(min_dist) # get minumum dist index\n",
    "                name = name_list[min_dist_idx] # get name corrosponding to minimum dist\n",
    "                \n",
    "                box = boxes[i] \n",
    "                box = [int(coord) for coord in box]\n",
    "\n",
    "                original_frame = frame.copy() # storing copy of frame before drawing on it\n",
    "                \n",
    "                if min_dist < 0.90:\n",
    "                    text = f'{name} {min_dist:.2f}'\n",
    "                    cv2.putText(frame, text, (box[0], box[1]), cv2.FONT_HERSHEY_SIMPLEX, 1, (0, 255, 0), 1,\n",
    "                                cv2.LINE_AA)\n",
    "                    count_TRUE += 1\n",
    "\n",
    "                frame = cv2.rectangle(frame, (box[0], box[1]), (box[2], box[3]), (255, 0, 0), 2)\n",
    "                \n",
    "\n",
    "    cv2.imshow(\"IMG\", frame)\n",
    "        \n",
    "    \n",
    "    k = cv2.waitKey(1)\n",
    "    if k%256==27: # ESC\n",
    "        print('Esc pressed, closing...')\n",
    "        break\n",
    "print(time.time() - start_time)\n",
    "print(f'True/Total {count_TRUE/count_TOTAL}')\n",
    "f = open(\"torch_result.txt\", \"w\")#a\n",
    "f.write(str(ll))\n",
    "f.close()        \n",
    "        \n",
    "cam.release()\n",
    "cv2.destroyAllWindows()\n",
    "    "
   ]
  }
 ],
 "metadata": {
  "kernelspec": {
   "display_name": "Python 3 (ipykernel)",
   "language": "python",
   "name": "python3"
  },
  "language_info": {
   "codemirror_mode": {
    "name": "ipython",
    "version": 3
   },
   "file_extension": ".py",
   "mimetype": "text/x-python",
   "name": "python",
   "nbconvert_exporter": "python",
   "pygments_lexer": "ipython3",
   "version": "3.11.1"
  },
  "vscode": {
   "interpreter": {
    "hash": "19d1d53a962d236aa061289c2ac16dc8e6d9648c89fe79f459ae9a3493bc67b4"
   }
  }
 },
 "nbformat": 4,
 "nbformat_minor": 2
}
